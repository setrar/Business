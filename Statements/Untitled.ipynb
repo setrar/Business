{
 "cells": [
  {
   "cell_type": "code",
   "execution_count": 3,
   "id": "994eb867-d794-4e8b-8d0f-2b9ef0dd6694",
   "metadata": {},
   "outputs": [],
   "source": [
    "using Plots"
   ]
  },
  {
   "cell_type": "code",
   "execution_count": 4,
   "id": "196a6db8-36cc-45c5-b748-aabfd0fa16cd",
   "metadata": {},
   "outputs": [
    {
     "data": {
      "text/plain": [
       "9-element Vector{Int64}:\n",
       "    840\n",
       "   1660\n",
       "   6680\n",
       "  17140\n",
       "  29680\n",
       "  46512\n",
       "  72169\n",
       " 106435\n",
       " 149275"
      ]
     },
     "execution_count": 4,
     "metadata": {},
     "output_type": "execute_result"
    }
   ],
   "source": [
    "quarters = [\"Q1\", \"Q2\", \"Q3\", \"Q4\", \"Q5\", \"Q6\", \"Q7\", \"Q8\", \"Q9\"]\n",
    "total_revenue = [0, 3360, 10080, 23940, 33152, 51576, 79212, 116060, 162120]\n",
    "total_cogs = [0, 1200, 2400, 4800, 1672, 2585, 3971, 5818, 8126]\n",
    "gross_profit = [860, 2160, 7680, 19140, 31680, 48991, 75241, 110242, 153994]\n",
    "opex = [20, 500, 1000, 2000, 2479, 3072, 3807, 4719, 4719]\n",
    "net_income = [840, 1660, 6680, 17140, 29680, 46512, 72169, 106435, 149275]\n"
   ]
  },
  {
   "cell_type": "code",
   "execution_count": 7,
   "id": "43c6995b-5838-4850-8e5b-200149e1d98b",
   "metadata": {},
   "outputs": [
    {
     "data": {
      "text/plain": [
       "\"/Users/valiha/Developer/Business/Statements/plots.png\""
      ]
     },
     "execution_count": 7,
     "metadata": {},
     "output_type": "execute_result"
    }
   ],
   "source": [
    "p = plot(quarters, total_revenue, label=\"Total Revenue\", marker=:circle)\n",
    "plot!(quarters, total_cogs, label=\"Total COGS\", marker=:circle)\n",
    "plot!(quarters, gross_profit, label=\"Gross Profit\", marker=:circle)\n",
    "plot!(quarters, opex, label=\"OpEx\", marker=:circle, linestyle=:dash)\n",
    "plot!(quarters, net_income, label=\"Net Income\", marker=:circle, color=:green)\n",
    "\n",
    "xlabel!(\"Quarters\")\n",
    "ylabel!(\"Amount (in thousands)\")\n",
    "title!(\"Financial Metrics Over Quarters\")\n",
    "# legend(:outertopright)\n",
    "\n",
    "savefig(p, \"plots.png\")\n"
   ]
  },
  {
   "cell_type": "code",
   "execution_count": null,
   "id": "e5e8ae59-dedb-4c26-944d-acf31517f089",
   "metadata": {},
   "outputs": [],
   "source": []
  }
 ],
 "metadata": {
  "kernelspec": {
   "display_name": "Julia 1.9.3",
   "language": "julia",
   "name": "julia-1.9"
  },
  "language_info": {
   "file_extension": ".jl",
   "mimetype": "application/julia",
   "name": "julia",
   "version": "1.10.2"
  }
 },
 "nbformat": 4,
 "nbformat_minor": 5
}
